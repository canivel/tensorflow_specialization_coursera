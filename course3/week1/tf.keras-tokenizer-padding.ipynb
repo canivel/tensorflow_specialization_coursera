{
 "cells": [
  {
   "cell_type": "code",
   "execution_count": 1,
   "metadata": {},
   "outputs": [],
   "source": [
    "from tensorflow.keras.preprocessing.text import Tokenizer"
   ]
  },
  {
   "cell_type": "code",
   "execution_count": 2,
   "metadata": {},
   "outputs": [],
   "source": [
    "sentences = [\"I love my dog\", \"I, don't have a cat\", \"I love my family\"]"
   ]
  },
  {
   "cell_type": "code",
   "execution_count": 3,
   "metadata": {},
   "outputs": [],
   "source": [
    "tokenizer = Tokenizer(num_words=100)"
   ]
  },
  {
   "cell_type": "code",
   "execution_count": 4,
   "metadata": {},
   "outputs": [
    {
     "name": "stdout",
     "output_type": "stream",
     "text": [
      "{'i': 1, 'love': 2, 'my': 3, 'dog': 4, \"don't\": 5, 'have': 6, 'a': 7, 'cat': 8, 'family': 9}\n"
     ]
    }
   ],
   "source": [
    "tokenizer.fit_on_texts(sentences)\n",
    "word_index = tokenizer.word_index\n",
    "print(word_index)"
   ]
  },
  {
   "cell_type": "code",
   "execution_count": 5,
   "metadata": {},
   "outputs": [],
   "source": [
    "sentences.append(\"I think my dog is the best dog for kids, don't you?\")"
   ]
  },
  {
   "cell_type": "code",
   "execution_count": 10,
   "metadata": {},
   "outputs": [
    {
     "name": "stdout",
     "output_type": "stream",
     "text": [
      "{'i': 1, 'my': 2, 'love': 3, 'dog': 4, \"don't\": 5, 'have': 6, 'a': 7, 'cat': 8, 'family': 9, 'think': 10, 'is': 11, 'the': 12, 'best': 13, 'for': 14, 'kids': 15, 'you': 16}\n"
     ]
    }
   ],
   "source": [
    "tokenizer.fit_on_texts(sentences)\n",
    "word_index = tokenizer.word_index\n",
    "print(word_index)"
   ]
  },
  {
   "cell_type": "code",
   "execution_count": 11,
   "metadata": {},
   "outputs": [],
   "source": [
    "sequences = tokenizer.texts_to_sequences(sentences)"
   ]
  },
  {
   "cell_type": "code",
   "execution_count": 12,
   "metadata": {},
   "outputs": [
    {
     "name": "stdout",
     "output_type": "stream",
     "text": [
      "[[1, 3, 2, 4], [1, 5, 6, 7, 8], [1, 3, 2, 9], [1, 10, 2, 4, 11, 12, 13, 4, 14, 15, 5, 16]]\n"
     ]
    }
   ],
   "source": [
    "print(sequences)"
   ]
  },
  {
   "cell_type": "code",
   "execution_count": 14,
   "metadata": {},
   "outputs": [],
   "source": [
    "#OOV\n",
    "tokenizer = Tokenizer(num_words=100, oov_token=\"<OOV>\")\n",
    "tokenizer.fit_on_texts(sentences)\n",
    "word_index = tokenizer.word_index"
   ]
  },
  {
   "cell_type": "code",
   "execution_count": 17,
   "metadata": {},
   "outputs": [
    {
     "name": "stdout",
     "output_type": "stream",
     "text": [
      "{'<OOV>': 1, 'i': 2, 'my': 3, 'dog': 4, 'love': 5, \"don't\": 6, 'have': 7, 'a': 8, 'cat': 9, 'family': 10, 'think': 11, 'is': 12, 'the': 13, 'best': 14, 'for': 15, 'kids': 16, 'you': 17}\n",
      "[[2, 5, 13, 1], [6, 1, 1, 1, 1, 13, 4]]\n"
     ]
    }
   ],
   "source": [
    "sequences = tokenizer.texts_to_sequences(sentences)\n",
    "\n",
    "test_data = [\"I love the beach\", \"Don't go to deep with the dog\"]\n",
    "test_seq = tokenizer.texts_to_sequences(test_data)\n",
    "print(tokenizer.word_index)\n",
    "print(test_seq)"
   ]
  },
  {
   "cell_type": "code",
   "execution_count": 18,
   "metadata": {},
   "outputs": [],
   "source": [
    "from tensorflow.keras.preprocessing.sequence import pad_sequences"
   ]
  },
  {
   "cell_type": "code",
   "execution_count": 20,
   "metadata": {},
   "outputs": [
    {
     "name": "stdout",
     "output_type": "stream",
     "text": [
      "[[ 0  0  0  0  0  0  0  0  2  5  3  4]\n",
      " [ 0  0  0  0  0  0  0  2  6  7  8  9]\n",
      " [ 0  0  0  0  0  0  0  0  2  5  3 10]\n",
      " [ 2 11  3  4 12 13 14  4 15 16  6 17]]\n"
     ]
    }
   ],
   "source": [
    "#add zeros to let the sequences on the same length as the large sequence\n",
    "padded = pad_sequences(sequences=sequences)\n",
    "print(padded)"
   ]
  },
  {
   "cell_type": "code",
   "execution_count": 22,
   "metadata": {},
   "outputs": [
    {
     "name": "stdout",
     "output_type": "stream",
     "text": [
      "[[ 2  5  3  4  0  0  0  0  0  0  0  0]\n",
      " [ 2  6  7  8  9  0  0  0  0  0  0  0]\n",
      " [ 2  5  3 10  0  0  0  0  0  0  0  0]\n",
      " [ 2 11  3  4 12 13 14  4 15 16  6 17]]\n"
     ]
    }
   ],
   "source": [
    "#add zeros after if loos better\n",
    "padded_post = pad_sequences(sequences=sequences, padding='post')\n",
    "print(padded_post)"
   ]
  },
  {
   "cell_type": "code",
   "execution_count": 24,
   "metadata": {},
   "outputs": [
    {
     "name": "stdout",
     "output_type": "stream",
     "text": [
      "[[ 2  5  3  4  0]\n",
      " [ 2  6  7  8  9]\n",
      " [ 2  5  3 10  0]\n",
      " [ 4 15 16  6 17]]\n"
     ]
    }
   ],
   "source": [
    "#max length limit, truncating=post can be used\n",
    "padded_post_max = pad_sequences(sequences=sequences, padding='post', maxlen=5)\n",
    "print(padded_post_max)"
   ]
  },
  {
   "cell_type": "code",
   "execution_count": null,
   "metadata": {},
   "outputs": [],
   "source": []
  }
 ],
 "metadata": {
  "kernelspec": {
   "display_name": "Python 3",
   "language": "python",
   "name": "python3"
  },
  "language_info": {
   "codemirror_mode": {
    "name": "ipython",
    "version": 3
   },
   "file_extension": ".py",
   "mimetype": "text/x-python",
   "name": "python",
   "nbconvert_exporter": "python",
   "pygments_lexer": "ipython3",
   "version": "3.6.8"
  }
 },
 "nbformat": 4,
 "nbformat_minor": 2
}
